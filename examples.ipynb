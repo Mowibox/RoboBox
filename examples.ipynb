{
 "cells": [
  {
   "cell_type": "markdown",
   "metadata": {},
   "source": [
    "# Usage examples"
   ]
  },
  {
   "cell_type": "markdown",
   "metadata": {},
   "source": [
    "## Imports"
   ]
  },
  {
   "cell_type": "code",
   "execution_count": 1,
   "metadata": {},
   "outputs": [],
   "source": [
    "import numpy as np\n",
    "import sympy as sp"
   ]
  },
  {
   "cell_type": "markdown",
   "metadata": {},
   "source": [
    "### axisangle_rotation.py"
   ]
  },
  {
   "cell_type": "code",
   "execution_count": 2,
   "metadata": {},
   "outputs": [
    {
     "name": "stdout",
     "output_type": "stream",
     "text": [
      "[[ 0.8660254  -0.35355339  0.35355339]\n",
      " [ 0.35355339  0.9330127  -0.0669873 ]\n",
      " [ 0.35355339 -0.0669873   0.9330127 ]]\n"
     ]
    }
   ],
   "source": [
    "from axisangle_rotation import *\n",
    "\n",
    "# Unit vector\n",
    "r = (np.sqrt(2)/2)*np.array([0, -1, 1])\n",
    "\n",
    "# Rotation angle\n",
    "theta = np.pi/6\n",
    "\n",
    "# Rotation matrix\n",
    "R = axisangle_rotation(r=r, theta=theta)\n",
    "print(R)"
   ]
  },
  {
   "cell_type": "markdown",
   "metadata": {},
   "source": [
    "### compute_jacobian.py"
   ]
  },
  {
   "cell_type": "markdown",
   "metadata": {},
   "source": [
    "Displays the Jacobian matrix. Example with the 2R planar robot arm:"
   ]
  },
  {
   "cell_type": "code",
   "execution_count": 3,
   "metadata": {},
   "outputs": [
    {
     "name": "stdout",
     "output_type": "stream",
     "text": [
      "⎡-l₁⋅sin(θ₁) - l₂⋅sin(θ₁ + θ₂)  -l₂⋅sin(θ₁ + θ₂)⎤\n",
      "⎢                                               ⎥\n",
      "⎣l₁⋅cos(θ₁) + l₂⋅cos(θ₁ + θ₂)   l₂⋅cos(θ₁ + θ₂) ⎦\n"
     ]
    }
   ],
   "source": [
    "from compute_jacobian import compute_jacobian\n",
    "\n",
    "theta1, theta2, l1, l2 = sp.symbols('theta1 theta2 l1 l2')\n",
    "\n",
    "# 2R Forward Kinematics\n",
    "x = l1 * sp.cos(theta1) + l2 * sp.cos(theta1 + theta2)\n",
    "y = l1 * sp.sin(theta1) + l2 * sp.sin(theta1 + theta2)\n",
    "\n",
    "functions = [x, y]\n",
    "variables = [theta1, theta2]\n",
    "\n",
    "J = compute_jacobian(functions, variables)\n",
    "\n",
    "sp.pprint(J)"
   ]
  },
  {
   "cell_type": "markdown",
   "metadata": {},
   "source": [
    "### determinant.py"
   ]
  },
  {
   "cell_type": "code",
   "execution_count": 4,
   "metadata": {},
   "outputs": [
    {
     "name": "stdout",
     "output_type": "stream",
     "text": [
      "==== Determinant of the matrix ====\n",
      "l₁⋅l₂⋅sin(θ₂)\n"
     ]
    }
   ],
   "source": [
    "from determinant import determinant\n",
    "\n",
    "theta1, theta2, l1, l2 = sp.symbols('theta1 theta2 l1 l2')\n",
    "\n",
    "M = sp.Matrix([[l1 * sp.cos(theta1) + l2 * sp.cos(theta1 + theta2)],\n",
    "               [l1 * sp.sin(theta1) + l2 * sp.sin(theta1 + theta2)],\n",
    "               ])\n",
    "\n",
    "J = compute_jacobian(M, variables=[theta1, theta2])\n",
    "\n",
    "det_J = determinant(J)"
   ]
  },
  {
   "cell_type": "markdown",
   "metadata": {},
   "source": [
    "### DH_matrix.py"
   ]
  },
  {
   "cell_type": "markdown",
   "metadata": {},
   "source": [
    "Displays the Denavit-Hartenberg transformation matrix"
   ]
  },
  {
   "cell_type": "code",
   "execution_count": 5,
   "metadata": {},
   "outputs": [
    {
     "name": "stdout",
     "output_type": "stream",
     "text": [
      "⎡cos(θ)  -sin(θ)⋅cos(α)  -sin(α)⋅sin(θ)  a⋅cos(θ)⎤\n",
      "⎢                                                ⎥\n",
      "⎢sin(θ)  cos(α)⋅cos(θ)   -sin(α)⋅cos(θ)  a⋅sin(θ)⎥\n",
      "⎢                                                ⎥\n",
      "⎢  0         sin(α)          cos(α)         d    ⎥\n",
      "⎢                                                ⎥\n",
      "⎣  0           0               0            1    ⎦\n"
     ]
    }
   ],
   "source": [
    "from DH_matrix import DH_matrix\n",
    "\n",
    "DH_mat = DH_matrix()\n",
    "sp.pprint(DH_mat)"
   ]
  },
  {
   "cell_type": "markdown",
   "metadata": {},
   "source": [
    "### DK.py"
   ]
  },
  {
   "cell_type": "code",
   "execution_count": 6,
   "metadata": {},
   "outputs": [
    {
     "name": "stdout",
     "output_type": "stream",
     "text": [
      "⎡a₁⋅cos(q₁) + a₂⋅cos(q₁ + q₂)⎤\n",
      "⎢                            ⎥\n",
      "⎢a₁⋅sin(q₁) + a₂⋅sin(q₁ + q₂)⎥\n",
      "⎢                            ⎥\n",
      "⎣        d₁ + d₄ + q₃        ⎦\n"
     ]
    }
   ],
   "source": [
    "from DK import DK\n",
    "\n",
    "# Example with the SCARA robot\n",
    "a1, a2, d1, d4, q1, q2, q3, q4 = sp.symbols('a1 a2 d1 d4 q1 q2 q3 q4')\n",
    "\n",
    "values = {\n",
    "    a1: 1.0,  \n",
    "    a2: 1.0,  \n",
    "    d1: 0.5, \n",
    "    d4: 0.2,  \n",
    "    q1: sp.pi/4,  \n",
    "    q2: sp.pi/4,  \n",
    "    q3: 0.5,\n",
    "    q4: sp.pi/6,\n",
    "}\n",
    "\n",
    "DH_table = [\n",
    "    [0, a1, d1, q1],        # Joint 1\n",
    "    [0, a2, 0, q2],         # Joint 2\n",
    "    [0, 0, q3, 0],          # Joint 3 (Prismatic)\n",
    "    [sp.pi, 0, d4, q4]      # Joint 4\n",
    "]\n",
    "\n",
    "dirkin = DK(DH_table)\n",
    "\n",
    "# 'Txy', 'position', 'x-axis', 'y-axis', 'z-axis'\n",
    "sp.pprint(dirkin['position'])"
   ]
  },
  {
   "cell_type": "code",
   "execution_count": 7,
   "metadata": {},
   "outputs": [
    {
     "name": "stdout",
     "output_type": "stream",
     "text": [
      "⎡   0.5⋅√2   ⎤\n",
      "⎢            ⎥\n",
      "⎢0.5⋅√2 + 1.0⎥\n",
      "⎢            ⎥\n",
      "⎣    1.2     ⎦\n"
     ]
    }
   ],
   "source": [
    "# Numerical substitution\n",
    "sp.pprint(dirkin['position'].subs(values))"
   ]
  },
  {
   "cell_type": "markdown",
   "metadata": {},
   "source": [
    "### euler_rotation.py"
   ]
  },
  {
   "cell_type": "code",
   "execution_count": 8,
   "metadata": {},
   "outputs": [
    {
     "name": "stdout",
     "output_type": "stream",
     "text": [
      "[[ 5.00000000e-01  5.00000000e-01  7.07106781e-01]\n",
      " [ 5.00000000e-01  5.00000000e-01 -7.07106781e-01]\n",
      " [-7.07106781e-01  7.07106781e-01  4.32978028e-17]]\n"
     ]
    }
   ],
   "source": [
    "from euler_rotation import euler_rotation\n",
    "\n",
    "\n",
    "angles = [np.pi/2, np.pi/4, -np.pi/4]\n",
    "\n",
    "R = euler_rotation(sequence='xyz', angles=angles)\n",
    "\n",
    "print(R)"
   ]
  },
  {
   "cell_type": "markdown",
   "metadata": {},
   "source": [
    "### find_null.py"
   ]
  },
  {
   "cell_type": "code",
   "execution_count": 9,
   "metadata": {},
   "outputs": [
    {
     "name": "stdout",
     "output_type": "stream",
     "text": [
      "Nullspace of the matrix:\n",
      "Basis vector n°1:\n",
      "⎡0⎤\n",
      "⎢ ⎥\n",
      "⎢1⎥\n",
      "⎢ ⎥\n",
      "⎣0⎦\n",
      "Basis vector n°2:\n",
      "⎡1⎤\n",
      "⎢ ⎥\n",
      "⎢0⎥\n",
      "⎢ ⎥\n",
      "⎣1⎦\n"
     ]
    }
   ],
   "source": [
    "from find_null import find_null\n",
    "\n",
    "J = sp.Matrix([[-1, 0, 1],\n",
    "               [0, 0, 0],\n",
    "               ])\n",
    "\n",
    "find_null(J)"
   ]
  },
  {
   "cell_type": "markdown",
   "metadata": {},
   "source": [
    "### find_range.py"
   ]
  },
  {
   "cell_type": "code",
   "execution_count": 10,
   "metadata": {},
   "outputs": [
    {
     "name": "stdout",
     "output_type": "stream",
     "text": [
      "Warning! This result might be wrong, please check by hand if possible.\n",
      "Range of the Jacobian:\n",
      "Basis vector n°1:\n",
      "⎡-1⎤\n",
      "⎢  ⎥\n",
      "⎣0 ⎦\n"
     ]
    }
   ],
   "source": [
    "from find_range import find_range\n",
    "\n",
    "J = sp.Matrix([[-1, 0, 1],\n",
    "               [0, 0, 0],\n",
    "               ])\n",
    "\n",
    "find_range(J)"
   ]
  },
  {
   "cell_type": "markdown",
   "metadata": {},
   "source": [
    "### gradient_IK_2R_planar.py"
   ]
  },
  {
   "cell_type": "code",
   "execution_count": 11,
   "metadata": {},
   "outputs": [],
   "source": [
    "from gradient_IK_2R_planar import gradient_IK_2R_planar\n",
    "\n",
    "l = [0.5, 0.4]   # [m]\n",
    "pd = [0.4, -0.3] # [m]\n",
    "\n",
    "q0_1 = np.multiply([-70, -100], np.pi/180)\n",
    "\n",
    "q1, e1, q1_lst, e1_lst = gradient_IK_2R_planar(pd, q0_1, l, \n",
    "                                               kmax=66, alpha=1, verbose=0)"
   ]
  },
  {
   "cell_type": "markdown",
   "metadata": {},
   "source": [
    "### jacobian_analysis.py"
   ]
  },
  {
   "cell_type": "code",
   "execution_count": 12,
   "metadata": {},
   "outputs": [
    {
     "name": "stdout",
     "output_type": "stream",
     "text": [
      "==== Jacobian Analysis ====\n",
      "⎡-l₁⋅sin(θ₁) - l₂⋅sin(θ₁ + θ₂)  -l₂⋅sin(θ₁ + θ₂)⎤\n",
      "⎢                                               ⎥\n",
      "⎣l₁⋅cos(θ₁) + l₂⋅cos(θ₁ + θ₂)   l₂⋅cos(θ₁ + θ₂) ⎦\n",
      "Shape of the Jacobian is 2x2\n",
      "The Jacobian is square\n",
      "==== Determinant of the matrix ====\n",
      "l₁⋅l₂⋅sin(θ₂)\n",
      "\n",
      "==== Singularity conditions ====\n",
      "[(θ₁, 0), (θ₁, π)]\n",
      "\n",
      "==== Rank of the Jacobian ====\n",
      "Rank: 2\n",
      "\n",
      "==== Range of the Jacobian ====\n",
      "Warning! This result might be wrong, please check by hand if possible.\n",
      "Range of the Jacobian:\n",
      "Basis vector n°1:\n",
      "⎡-l₁⋅sin(θ₁) - l₂⋅sin(θ₁ + θ₂)⎤\n",
      "⎢                             ⎥\n",
      "⎣l₁⋅cos(θ₁) + l₂⋅cos(θ₁ + θ₂) ⎦\n",
      "Basis vector n°2:\n",
      "⎡-l₂⋅sin(θ₁ + θ₂)⎤\n",
      "⎢                ⎥\n",
      "⎣l₂⋅cos(θ₁ + θ₂) ⎦\n",
      "\n",
      "==== Nullspace of the Jacobian ====\n",
      "Nullspace of the matrix:\n",
      "The nullspace is trivial (only the zero vector).\n",
      "\n",
      "==== Complementary nullspace of the Jacobian ====\n",
      "The complementary nullspace is only the 0 vector\n",
      "\n",
      "==== Dimension checking ====\n",
      "dim Range(J) + dim Null(J^T): 2\n",
      "..should equal the task-space dimension (rows of the Jacobian).\n",
      "dim Range(J^T) + dim Null(J): 2\n",
      "..should equal the joint-space dimension (columns of the Jacobian).\n"
     ]
    }
   ],
   "source": [
    "from compute_jacobian import compute_jacobian\n",
    "from jacobian_analysis import jacobian_analysis\n",
    "\n",
    "theta1, theta2, l1, l2 = sp.symbols('theta1 theta2 l1 l2')\n",
    "\n",
    "# 2R Forward Kinematics\n",
    "x = l1 * sp.cos(theta1) + l2 * sp.cos(theta1 + theta2)\n",
    "y = l1 * sp.sin(theta1) + l2 * sp.sin(theta1 + theta2)\n",
    "\n",
    "functions = [x, y]\n",
    "variables = [theta1, theta2]\n",
    "\n",
    "J = compute_jacobian(functions, variables)\n",
    "jacobian_analysis(J, variables)"
   ]
  },
  {
   "cell_type": "markdown",
   "metadata": {},
   "source": [
    "### newton_IK_2R_planar.py"
   ]
  },
  {
   "cell_type": "code",
   "execution_count": 13,
   "metadata": {},
   "outputs": [
    {
     "name": "stdout",
     "output_type": "stream",
     "text": [
      "===== Iteration n°1 =====\n",
      "(q0, q1) = [ 0.1735905  -1.99607972]\n",
      "Error norm: 0.07708794207802562\n",
      "===== Iteration n°2 =====\n",
      "(q0, q1) = [ 0.17969511 -1.98241324]\n",
      "Error norm: 0.00720704119497683\n",
      "===== Iteration n°3 =====\n",
      "Converegence reached in 3 steps\n",
      "Computed joint angles for target position [0.4, -0.3]: (q0, q1) = [ 0.17969511 -1.98241324]\n",
      "Final error norm: 7.485780373751599e-05\n"
     ]
    }
   ],
   "source": [
    "from newton_IK_2R_planar import newton_IK_2R_planar\n",
    "\n",
    "l = [0.5, 0.4]   # [m]\n",
    "pd = [0.4, -0.3] # [m]\n",
    "\n",
    "# Elbow up (in radians)\n",
    "q0_1 = np.multiply([20, -120], np.pi/180)\n",
    "\n",
    "q1, e1, q1_lst, e1_lst = newton_IK_2R_planar(pd, q0_1, l, verbose=1)"
   ]
  },
  {
   "cell_type": "code",
   "execution_count": 14,
   "metadata": {},
   "outputs": [
    {
     "name": "stdout",
     "output_type": "stream",
     "text": [
      "===== Iteration n°1 =====\n",
      "(q0, q1) = [-1.45886458  2.01248161]\n",
      "Error norm: 0.12123017840524487\n",
      "===== Iteration n°2 =====\n",
      "(q0, q1) = [-1.46715424  1.98264386]\n",
      "Error norm: 0.013990331230679004\n",
      "===== Iteration n°3 =====\n",
      "(q0, q1) = [-1.46653475  1.98231337]\n",
      "Error norm: 0.00028396842651794315\n",
      "===== Iteration n°4 =====\n",
      "Converegence reached in 4 steps\n",
      "Computed joint angles for target position [0.4, -0.3]: (q0, q1) = [-1.46653475  1.98231337]\n",
      "Final error norm: 9.055974332927428e-08\n"
     ]
    }
   ],
   "source": [
    "# Elbow down (in radians)\n",
    "q0_2 = np.multiply([-70, 100], np.pi/180) \n",
    "\n",
    "q2, e2, q2_lst, e2_lst = newton_IK_2R_planar(pd, q0_2, l, kmax=4, verbose=1)"
   ]
  },
  {
   "cell_type": "markdown",
   "metadata": {},
   "source": [
    "### plotter.py"
   ]
  },
  {
   "cell_type": "code",
   "execution_count": 15,
   "metadata": {},
   "outputs": [
    {
     "data": {
      "image/png": "[encoded data removed]",
      "text/plain": [
       "<Figure size 640x480 with 1 Axes>"
      ]
     },
     "metadata": {},
     "output_type": "display_data"
    }
   ],
   "source": [
    "from plotter import plotter\n",
    "from newton_IK_2R_planar import newton_IK_2R_planar\n",
    "\n",
    "l = [0.5, 0.4]   \n",
    "pd = [0.4, -0.3] \n",
    "\n",
    "q0 = np.multiply([20, -120], np.pi/180)\n",
    "\n",
    "q, e, q_lst, e_lst = newton_IK_2R_planar(pd, q0, l, verbose=0)\n",
    "\n",
    "e_lst = np.array(e_lst) # The conversion is necessary to use slicing\n",
    "\n",
    "X = range(len(e_lst))\n",
    "plotter(X, [e_lst[:,0], e_lst[:,1]], \"o\",\n",
    "        labels=[\"joint-0\",\"joint-1\"],\n",
    "        title=\"Error norm evolution\",\n",
    "        xlabel=\"Iterations\",\n",
    "        ylabel=\"Error-norm (in radians)\")"
   ]
  },
  {
   "cell_type": "markdown",
   "metadata": {},
   "source": [
    "### rest_to_rest_motion.py"
   ]
  },
  {
   "cell_type": "code",
   "execution_count": 20,
   "metadata": {},
   "outputs": [
    {
     "data": {
      "image/png": "[encoded data removed]",
      "text/plain": [
       "<Figure size 800x800 with 3 Axes>"
      ]
     },
     "metadata": {},
     "output_type": "display_data"
    }
   ],
   "source": [
    "from rest_to_rest_motion import rest_to_rest_motion\n",
    "\n",
    "total_time = 20\n",
    "acceleration_value = 2.0 \n",
    "speed_value = 4.0 \n",
    "acceleration_time = 2  \n",
    "\n",
    "rest_to_rest_motion(total_time, acceleration_value, speed_value, acceleration_time)"
   ]
  },
  {
   "cell_type": "markdown",
   "metadata": {},
   "source": [
    "### transform_matrix.py"
   ]
  },
  {
   "cell_type": "code",
   "execution_count": 17,
   "metadata": {},
   "outputs": [
    {
     "name": "stdout",
     "output_type": "stream",
     "text": [
      "⎡ √3                          ⎤\n",
      "⎢ ──   -3/4  1/2  0.2 + 0.2⋅√3⎥\n",
      "⎢ 4                           ⎥\n",
      "⎢                             ⎥\n",
      "⎢      -√3   √3               ⎥\n",
      "⎢1/4   ────  ──   0.2 + 0.2⋅√3⎥\n",
      "⎢       4    2                ⎥\n",
      "⎢                             ⎥\n",
      "⎢-√3                          ⎥\n",
      "⎢────  -1/2   0   0.2 - 0.1⋅√3⎥\n",
      "⎢ 2                           ⎥\n",
      "⎢                             ⎥\n",
      "⎣ 0     0     0        1      ⎦\n"
     ]
    }
   ],
   "source": [
    "from transform_matrix import transform_matrix\n",
    "\n",
    "DH_table = [[0, 0.5, 1, sp.pi/4],\n",
    "            [-sp.pi/2, 0.3, 0.2, sp.pi/6],\n",
    "            [0, 0.2, 0.4, sp.pi/3],]\n",
    "\n",
    "T = transform_matrix(DH_table=DH_table, x=1, y=2)\n",
    "sp.pprint(T)"
   ]
  },
  {
   "cell_type": "markdown",
   "metadata": {},
   "source": [
    "The numerical result can be obtained with evalf()"
   ]
  },
  {
   "cell_type": "code",
   "execution_count": 18,
   "metadata": {},
   "outputs": [
    {
     "name": "stdout",
     "output_type": "stream",
     "text": [
      "⎡0.433012701892219         -0.75                0.5         0.546410161513776 ⎤\n",
      "⎢                                                                             ⎥\n",
      "⎢       0.25         -0.433012701892219  0.866025403784439  0.546410161513776 ⎥\n",
      "⎢                                                                             ⎥\n",
      "⎢-0.866025403784439         -0.5                 0          0.0267949192431123⎥\n",
      "⎢                                                                             ⎥\n",
      "⎣        0                   0                   0                 1.0        ⎦\n"
     ]
    }
   ],
   "source": [
    "T_numerical = T.evalf()\n",
    "sp.pprint(T_numerical)"
   ]
  }
 ],
 "metadata": {
  "kernelspec": {
   "display_name": "Python 3",
   "language": "python",
   "name": "python3"
  },
  "language_info": {
   "codemirror_mode": {
    "name": "ipython",
    "version": 3
   },
   "file_extension": ".py",
   "mimetype": "text/x-python",
   "name": "python",
   "nbconvert_exporter": "python",
   "pygments_lexer": "ipython3",
   "version": "3.12.4"
  }
 },
 "nbformat": 4,
 "nbformat_minor": 2
}
