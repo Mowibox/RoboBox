{
 "cells": [
  {
   "cell_type": "markdown",
   "metadata": {},
   "source": [
    "# Usage examples"
   ]
  },
  {
   "cell_type": "markdown",
   "metadata": {},
   "source": [
    "## Imports"
   ]
  },
  {
   "cell_type": "code",
   "execution_count": 2,
   "metadata": {},
   "outputs": [],
   "source": [
    "import sympy as sp"
   ]
  },
  {
   "cell_type": "markdown",
   "metadata": {},
   "source": [
    "### axisangle_rotation.py"
   ]
  },
  {
   "cell_type": "code",
   "execution_count": 18,
   "metadata": {},
   "outputs": [
    {
     "name": "stdout",
     "output_type": "stream",
     "text": [
      "[[ 0.8660254  -0.35355339  0.35355339]\n",
      " [ 0.35355339  0.9330127  -0.0669873 ]\n",
      " [ 0.35355339 -0.0669873   0.9330127 ]]\n"
     ]
    }
   ],
   "source": [
    "from axisangle_rotation import *\n",
    "\n",
    "# Unit vector\n",
    "r = (np.sqrt(2)/2)*np.array([0, -1, 1])\n",
    "\n",
    "# Rotation angle\n",
    "theta = np.pi/6\n",
    "\n",
    "# Rotation matrix\n",
    "R = axisangle_rotation(r=r, theta=theta)\n",
    "print(R)"
   ]
  },
  {
   "cell_type": "markdown",
   "metadata": {},
   "source": [
    "### compute_jacobian.py"
   ]
  },
  {
   "cell_type": "markdown",
   "metadata": {},
   "source": [
    "Displays the Jacobian matrix. Example with the 2R planar robot arm:"
   ]
  },
  {
   "cell_type": "code",
   "execution_count": 16,
   "metadata": {},
   "outputs": [
    {
     "name": "stdout",
     "output_type": "stream",
     "text": [
      "⎡-l₁⋅sin(θ₁) - l₂⋅sin(θ₁ + θ₂)  -l₂⋅sin(θ₁ + θ₂)⎤\n",
      "⎢                                               ⎥\n",
      "⎣l₁⋅cos(θ₁) + l₂⋅cos(θ₁ + θ₂)   l₂⋅cos(θ₁ + θ₂) ⎦\n"
     ]
    }
   ],
   "source": [
    "from compute_jacobian import compute_jacobian\n",
    "\n",
    "theta1, theta2, l1, l2 = sp.symbols('theta1 theta2 l1 l2')\n",
    "\n",
    "# 2R Forward Kinematics\n",
    "x = l1 * sp.cos(theta1) + l2 * sp.cos(theta1 + theta2)\n",
    "y = l1 * sp.sin(theta1) + l2 * sp.sin(theta1 + theta2)\n",
    "\n",
    "functions = [x, y]\n",
    "variables = [theta1, theta2]\n",
    "\n",
    "J = compute_jacobian(functions, variables)\n",
    "\n",
    "sp.pprint(J)"
   ]
  },
  {
   "cell_type": "markdown",
   "metadata": {},
   "source": [
    "### determinant.py"
   ]
  },
  {
   "cell_type": "code",
   "execution_count": null,
   "metadata": {},
   "outputs": [
    {
     "name": "stdout",
     "output_type": "stream",
     "text": [
      "== Determinant of the matrix ==\n",
      "l₁⋅l₂⋅sin(θ₂)\n"
     ]
    }
   ],
   "source": [
    "from determinant import determinant\n",
    "\n",
    "theta1, theta2, l1, l2 = sp.symbols('theta1 theta2 l1 l2')\n",
    "\n",
    "M = sp.Matrix([[l1 * sp.cos(theta1) + l2 * sp.cos(theta1 + theta2)],\n",
    "               [l1 * sp.sin(theta1) + l2 * sp.sin(theta1 + theta2)],\n",
    "               ])\n",
    "\n",
    "J = compute_jacobian(M, variables=[theta1, theta2])\n",
    "\n",
    "det_J = determinant(J)"
   ]
  },
  {
   "cell_type": "markdown",
   "metadata": {},
   "source": [
    "### DH_matrix.py"
   ]
  },
  {
   "cell_type": "markdown",
   "metadata": {},
   "source": [
    "Displays the Denavit-Hartenberg transformation matrix"
   ]
  },
  {
   "cell_type": "code",
   "execution_count": 19,
   "metadata": {},
   "outputs": [
    {
     "name": "stdout",
     "output_type": "stream",
     "text": [
      "⎡cos(θ)  -sin(θ)⋅cos(α)  -sin(α)⋅sin(θ)  a⋅cos(θ)⎤\n",
      "⎢                                                ⎥\n",
      "⎢sin(θ)  cos(α)⋅cos(θ)   -sin(α)⋅cos(θ)  a⋅sin(θ)⎥\n",
      "⎢                                                ⎥\n",
      "⎢  0         sin(α)          cos(α)         d    ⎥\n",
      "⎢                                                ⎥\n",
      "⎣  0           0               0            1    ⎦\n"
     ]
    }
   ],
   "source": [
    "from DH_matrix import DH_matrix\n",
    "\n",
    "DH_mat = DH_matrix()\n",
    "sp.pprint(DH_mat)"
   ]
  },
  {
   "cell_type": "markdown",
   "metadata": {},
   "source": [
    "### euler_rotation.py"
   ]
  },
  {
   "cell_type": "code",
   "execution_count": 22,
   "metadata": {},
   "outputs": [
    {
     "name": "stdout",
     "output_type": "stream",
     "text": [
      "[[ 5.00000000e-01  5.00000000e-01  7.07106781e-01]\n",
      " [ 5.00000000e-01  5.00000000e-01 -7.07106781e-01]\n",
      " [-7.07106781e-01  7.07106781e-01  4.32978028e-17]]\n"
     ]
    }
   ],
   "source": [
    "from euler_rotation import euler_rotation\n",
    "\n",
    "\n",
    "angles = [np.pi/2, np.pi/4, -np.pi/4]\n",
    "\n",
    "R = euler_rotation(sequence='xyz', angles=angles)\n",
    "\n",
    "print(R)"
   ]
  },
  {
   "cell_type": "markdown",
   "metadata": {},
   "source": [
    "### find_null.py"
   ]
  },
  {
   "cell_type": "code",
   "execution_count": null,
   "metadata": {},
   "outputs": [
    {
     "name": "stdout",
     "output_type": "stream",
     "text": [
      "Null space of the matrix:\n",
      "Basis vector n°1:\n",
      "⎡0⎤\n",
      "⎢ ⎥\n",
      "⎢1⎥\n",
      "⎢ ⎥\n",
      "⎣0⎦\n",
      "Basis vector n°2:\n",
      "⎡1⎤\n",
      "⎢ ⎥\n",
      "⎢0⎥\n",
      "⎢ ⎥\n",
      "⎣1⎦\n"
     ]
    }
   ],
   "source": [
    "from find_null import find_null\n",
    "\n",
    "J = sp.Matrix([[-1, 0, 1],\n",
    "               [0, 0, 0],\n",
    "               ])\n",
    "\n",
    "find_null(J)"
   ]
  },
  {
   "cell_type": "markdown",
   "metadata": {},
   "source": [
    "### find_range.py"
   ]
  },
  {
   "cell_type": "code",
   "execution_count": null,
   "metadata": {},
   "outputs": [
    {
     "name": "stdout",
     "output_type": "stream",
     "text": [
      "Range of the Jacobian:\n",
      "Basis vector n°1:\n",
      "⎡-1⎤\n",
      "⎢  ⎥\n",
      "⎣0 ⎦\n"
     ]
    }
   ],
   "source": [
    "from find_range import find_range\n",
    "\n",
    "J = sp.Matrix([[-1, 0, 1],\n",
    "               [0, 0, 0],\n",
    "               ])\n",
    "\n",
    "find_range(J)"
   ]
  },
  {
   "cell_type": "markdown",
   "metadata": {},
   "source": [
    "### transform_matrix.py"
   ]
  },
  {
   "cell_type": "code",
   "execution_count": 20,
   "metadata": {},
   "outputs": [
    {
     "name": "stdout",
     "output_type": "stream",
     "text": [
      "⎡     -√3            ⎤\n",
      "⎢1/2  ────  0   0.1  ⎥\n",
      "⎢      2             ⎥\n",
      "⎢                    ⎥\n",
      "⎢√3                  ⎥\n",
      "⎢──   1/2   0  0.1⋅√3⎥\n",
      "⎢2                   ⎥\n",
      "⎢                    ⎥\n",
      "⎢ 0    0    1   0.4  ⎥\n",
      "⎢                    ⎥\n",
      "⎣ 0    0    0    1   ⎦\n"
     ]
    }
   ],
   "source": [
    "from transform_matrix import transform_matrix\n",
    "\n",
    "DH_table = [[0, 0.5, 1, sp.pi/4],\n",
    "            [-sp.pi/2, 0.3, 0.2, sp.pi/6],\n",
    "            [0, 0.2, 0.4, sp.pi/3],]\n",
    "\n",
    "T = transform_matrix(DH_table=DH_table, x=0, y=2)\n",
    "sp.pprint(T)"
   ]
  },
  {
   "cell_type": "markdown",
   "metadata": {},
   "source": [
    "The numerical result can be obtained with evalf()"
   ]
  },
  {
   "cell_type": "code",
   "execution_count": null,
   "metadata": {},
   "outputs": [
    {
     "name": "stdout",
     "output_type": "stream",
     "text": [
      "⎡       0.5         -0.866025403784439   0          0.1       ⎤\n",
      "⎢                                                             ⎥\n",
      "⎢0.866025403784439         0.5           0   0.173205080756888⎥\n",
      "⎢                                                             ⎥\n",
      "⎢        0                  0           1.0         0.4       ⎥\n",
      "⎢                                                             ⎥\n",
      "⎣        0                  0            0          1.0       ⎦\n"
     ]
    }
   ],
   "source": [
    "T_numerical = T.evalf()\n",
    "sp.pprint(T_numerical)"
   ]
  }
 ],
 "metadata": {
  "kernelspec": {
   "display_name": "Python 3",
   "language": "python",
   "name": "python3"
  },
  "language_info": {
   "codemirror_mode": {
    "name": "ipython",
    "version": 3
   },
   "file_extension": ".py",
   "mimetype": "text/x-python",
   "name": "python",
   "nbconvert_exporter": "python",
   "pygments_lexer": "ipython3",
   "version": "3.12.4"
  }
 },
 "nbformat": 4,
 "nbformat_minor": 2
}
